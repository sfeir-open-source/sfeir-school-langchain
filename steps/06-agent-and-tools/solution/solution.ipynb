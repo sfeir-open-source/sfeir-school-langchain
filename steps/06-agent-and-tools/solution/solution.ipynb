{
 "cells": [
  {
   "cell_type": "markdown",
   "metadata": {},
   "source": [
    "### ![](../../img/installation-ico.png) Installation "
   ]
  },
  {
   "cell_type": "code",
   "execution_count": null,
   "metadata": {
    "vscode": {
     "languageId": "shellscript"
    }
   },
   "outputs": [],
   "source": [
    "pip install langchain langchain-community duckduckgo-search"
   ]
  },
  {
   "cell_type": "markdown",
   "metadata": {},
   "source": [
    "### ![](../../img/package-ico.png) Imports"
   ]
  },
  {
   "cell_type": "code",
   "execution_count": 1,
   "metadata": {},
   "outputs": [
    {
     "name": "stderr",
     "output_type": "stream",
     "text": [
      "c:\\Users\\cleme\\Workspace\\sfeir-school-langchain\\.venvSchool\\Lib\\site-packages\\google_crc32c\\__init__.py:29: RuntimeWarning: As the c extension couldn't be imported, `google-crc32c` is using a pure python implementation that is significantly slower. If possible, please configure a c build environment and compile the extension\n",
      "  warnings.warn(_SLOW_CRC32C_WARNING, RuntimeWarning)\n"
     ]
    }
   ],
   "source": [
    "from langchain_community.tools import DuckDuckGoSearchRun\n",
    "\n",
    "import os\n",
    "import google.auth\n",
    "from langchain_google_vertexai import ChatVertexAI, VertexAI\n",
    "\n",
    "from langchain_core.prompts import ChatPromptTemplate, MessagesPlaceholder\n",
    "\n",
    "from langchain_core.tools import tool\n",
    "from langchain.agents import create_tool_calling_agent\n",
    "from langchain.agents import AgentExecutor"
   ]
  },
  {
   "cell_type": "markdown",
   "metadata": {},
   "source": [
    "### ![](../../img/parametrage-ico.png) Paramétrages des outils"
   ]
  },
  {
   "cell_type": "code",
   "execution_count": 2,
   "metadata": {},
   "outputs": [],
   "source": [
    "# Instantiation de l'outil de recherche\n",
    "\n",
    "searchTool = DuckDuckGoSearchRun()"
   ]
  },
  {
   "cell_type": "code",
   "execution_count": null,
   "metadata": {},
   "outputs": [],
   "source": [
    "# Informations sur l'outil\n",
    "\n",
    "print(searchTool.name)\n",
    "print(searchTool.description)\n",
    "print(searchTool.args)"
   ]
  },
  {
   "cell_type": "code",
   "execution_count": 3,
   "metadata": {},
   "outputs": [
    {
     "name": "stdout",
     "output_type": "stream",
     "text": [
      "multiply\n",
      "Multiply two numbers.\n",
      "{'a': {'title': 'A', 'type': 'integer'}, 'b': {'title': 'B', 'type': 'integer'}}\n"
     ]
    }
   ],
   "source": [
    "# Création d'un outil custom\n",
    "\n",
    "@tool\n",
    "def multiply(a: int, b: int) -> int:\n",
    "    \"\"\"Multiply two numbers.\"\"\"\n",
    "    return a * b\n",
    "\n",
    "print(multiply.name)\n",
    "print(multiply.description)\n",
    "print(multiply.args)"
   ]
  },
  {
   "cell_type": "markdown",
   "metadata": {},
   "source": [
    "### ![](../../img/jouer-ico.png) Exécution des outils seuls"
   ]
  },
  {
   "cell_type": "code",
   "execution_count": null,
   "metadata": {},
   "outputs": [],
   "source": [
    "# Utilisation de l'outil sans agent\n",
    "\n",
    "searchTool.invoke(\"Who is Backack Obama ?\")"
   ]
  },
  {
   "cell_type": "code",
   "execution_count": null,
   "metadata": {},
   "outputs": [],
   "source": [
    "multiply.invoke({\"a\": 2, \"b\": 3})"
   ]
  },
  {
   "cell_type": "markdown",
   "metadata": {},
   "source": [
    "### ![](../../img/parametrage-ico.png) Paramétrages de l'agent"
   ]
  },
  {
   "cell_type": "code",
   "execution_count": 4,
   "metadata": {},
   "outputs": [
    {
     "data": {
      "text/plain": [
       "(<google.oauth2.service_account.Credentials at 0x1f0411f0a40>,\n",
       " 'fit-symbol-433212-u5')"
      ]
     },
     "execution_count": 4,
     "metadata": {},
     "output_type": "execute_result"
    }
   ],
   "source": [
    "os.environ[\"GOOGLE_APPLICATION_CREDENTIALS\"] = \"../../settings/credentials.json\"\n",
    "\n",
    "google.auth.default()"
   ]
  },
  {
   "cell_type": "code",
   "execution_count": 5,
   "metadata": {},
   "outputs": [],
   "source": [
    "# Création du prompt pour l'agent\n",
    "prompt = ChatPromptTemplate.from_messages(\n",
    "    [\n",
    "        (\n",
    "            \"system\",\n",
    "            \"You are a helpful assistant\",\n",
    "        ),\n",
    "        MessagesPlaceholder(variable_name=\"chat_history\", optional=True),\n",
    "        (\"user\", \"{input}\"),\n",
    "        MessagesPlaceholder(variable_name=\"agent_scratchpad\", optional=True),\n",
    "    ]\n",
    ")"
   ]
  },
  {
   "cell_type": "code",
   "execution_count": 6,
   "metadata": {},
   "outputs": [],
   "source": [
    "llm = ChatVertexAI(model_name=\"gemini-1.5-pro\")\n",
    "# Définition de la liste des outils\n",
    "\n",
    "tools = [multiply, searchTool]\n",
    "\n",
    "# Initialisation de l'agent à partir du LLM, des outils et du prompt\n",
    "agent = create_tool_calling_agent(llm, tools, prompt)"
   ]
  },
  {
   "cell_type": "code",
   "execution_count": 8,
   "metadata": {},
   "outputs": [],
   "source": [
    "# Création du contexte d'exécution de l'agent\n",
    "agent_executor = AgentExecutor(agent=agent, tools=tools, verbose=True)"
   ]
  },
  {
   "cell_type": "code",
   "execution_count": 9,
   "metadata": {},
   "outputs": [
    {
     "name": "stdout",
     "output_type": "stream",
     "text": [
      "\n",
      "\n",
      "\u001b[1m> Entering new AgentExecutor chain...\u001b[0m\n"
     ]
    },
    {
     "name": "stderr",
     "output_type": "stream",
     "text": [
      "Retrying langchain_google_vertexai.chat_models._completion_with_retry.<locals>._completion_with_retry_inner in 4.0 seconds as it raised InternalServerError: 500 Internal error encountered..\n"
     ]
    },
    {
     "name": "stdout",
     "output_type": "stream",
     "text": [
      "\u001b[32;1m\u001b[1;3m\n",
      "Invoking: `duckduckgo_search` with `{'query': 'Who is Barack Obama?'}`\n",
      "\n",
      "\n",
      "\u001b[0m\u001b[33;1m\u001b[1;3mBarack Obama (born August 4, 1961, Honolulu, Hawaii, U.S.) is the 44th president of the United States (2009-17) and the first African American to hold the office. Before winning the presidency, Obama represented Illinois in the U.S. Senate (2005-08). He was the third African American to be elected to that body since the end of ... They're meant to be old friends, so where is Barack Obama when the US vice-president needs him? Alex Hannaford talks to those who know them and uncovers a personal and political relationship ... It was in this highly polarized environment that Obama and the Democrats attempted to enact health care insurance reform. Barack Obama - 44th President, Political Career, Legacy: In 1996 he was elected to the Illinois Senate, where, most notably, he helped pass legislation that tightened campaign finance regulations, expanded health care to ... An earlier version of this article referred incorrectly to Barack Obama's tenure as U.S. president. He was the 44th president, not the 45th. How we handle corrections Barack H. Obama will be celebrating his 62nd birthday this August 4. Barack H. Obama is an American politician who served as the 44th President of the United States from 2009 to 2017. He was the first African American to hold the office. Born on August 4, 1961, in Honolulu, Hawaii, Obama graduated from Columbia University and Harvard Law School ...\u001b[0m\u001b[32;1m\u001b[1;3mBarack Obama, born on August 4, 1961, in Honolulu, Hawaii, served as the 44th president of the United States from 2009 to 2017. He made history as the first African American to hold this position. Prior to his presidency, Obama represented Illinois in the U.S. Senate from 2005 to 2008, becoming the third African American elected to that body since the end of Reconstruction. \n",
      "\n",
      "Obama's presidency was marked by significant events, including the passage of the Affordable Care Act, which aimed to expand health insurance coverage. He also navigated the country through the aftermath of the 2008 financial crisis. \n",
      "\n",
      "Beyond his political career, Obama is known for his close friendship with former Vice President Joe Biden. \n",
      "\u001b[0m\n",
      "\n",
      "\u001b[1m> Finished chain.\u001b[0m\n"
     ]
    },
    {
     "data": {
      "text/plain": [
       "{'input': 'Who is Backack Obama ?',\n",
       " 'output': \"Barack Obama, born on August 4, 1961, in Honolulu, Hawaii, served as the 44th president of the United States from 2009 to 2017. He made history as the first African American to hold this position. Prior to his presidency, Obama represented Illinois in the U.S. Senate from 2005 to 2008, becoming the third African American elected to that body since the end of Reconstruction. \\n\\nObama's presidency was marked by significant events, including the passage of the Affordable Care Act, which aimed to expand health insurance coverage. He also navigated the country through the aftermath of the 2008 financial crisis. \\n\\nBeyond his political career, Obama is known for his close friendship with former Vice President Joe Biden. \\n\"}"
      ]
     },
     "execution_count": 9,
     "metadata": {},
     "output_type": "execute_result"
    }
   ],
   "source": [
    "# Exécution utilisant l'outil de recherche\n",
    "\n",
    "agent_executor.invoke({\"input\": \"Who is Backack Obama ?\"})"
   ]
  },
  {
   "cell_type": "code",
   "execution_count": null,
   "metadata": {},
   "outputs": [],
   "source": [
    "# Exécution utilisant l'outil de multiplication\n",
    "\n",
    "agent_executor.invoke({\"input\": \"What does 4 times 7 equal ?\"})"
   ]
  }
 ],
 "metadata": {
  "kernelspec": {
   "display_name": ".venvSchool",
   "language": "python",
   "name": "python3"
  },
  "language_info": {
   "codemirror_mode": {
    "name": "ipython",
    "version": 3
   },
   "file_extension": ".py",
   "mimetype": "text/x-python",
   "name": "python",
   "nbconvert_exporter": "python",
   "pygments_lexer": "ipython3",
   "version": "3.12.4"
  }
 },
 "nbformat": 4,
 "nbformat_minor": 2
}
