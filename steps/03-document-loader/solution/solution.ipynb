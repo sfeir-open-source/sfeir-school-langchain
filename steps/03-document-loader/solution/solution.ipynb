{
 "cells": [
  {
   "cell_type": "markdown",
   "metadata": {},
   "source": [
    "### ![](../../img/installation-ico.png) Installation "
   ]
  },
  {
   "cell_type": "code",
   "execution_count": null,
   "metadata": {
    "vscode": {
     "languageId": "shellscript"
    }
   },
   "outputs": [],
   "source": [
    "pip install langchain langchain-community langchain-google-vertexai google.auth"
   ]
  },
  {
   "cell_type": "markdown",
   "metadata": {},
   "source": [
    "Fonctionnalités nécessaires à la récupération de données web (scraping)"
   ]
  },
  {
   "cell_type": "code",
   "execution_count": null,
   "metadata": {
    "vscode": {
     "languageId": "shellscript"
    }
   },
   "outputs": [],
   "source": [
    "pip install beautifulsoup4"
   ]
  },
  {
   "cell_type": "markdown",
   "metadata": {},
   "source": [
    "### ![](../../img/package-ico.png) Imports"
   ]
  },
  {
   "cell_type": "code",
   "execution_count": null,
   "metadata": {},
   "outputs": [],
   "source": [
    "import os\n",
    "import google.auth\n",
    "\n",
    "from langchain_google_vertexai import VertexAI\n",
    "\n",
    "# pour la récupération de données depuis une page web\n",
    "from langchain_community.document_loaders import WebBaseLoader\n",
    "\n",
    "# pour le templeting des messages du prompt d'entrée\n",
    "from langchain_core.prompts import ChatPromptTemplate\n",
    "from langchain_core.messages import SystemMessage\n",
    "from langchain.prompts import HumanMessagePromptTemplate\n",
    "\n",
    "# pour le parser de sortie\n",
    "from langchain_core.pydantic_v1 import BaseModel, Field\n",
    "from langchain_core.output_parsers import JsonOutputParser"
   ]
  },
  {
   "cell_type": "markdown",
   "metadata": {},
   "source": [
    "### ![](../../img/parametrage-ico.png) Paramétrages "
   ]
  },
  {
   "cell_type": "code",
   "execution_count": null,
   "metadata": {},
   "outputs": [],
   "source": [
    "# Gestion credentials VertexAI\n",
    "\n",
    "os.environ[\"GOOGLE_APPLICATION_CREDENTIALS\"] = \"../../settings/credentials.json\"\n",
    "google.auth.default()"
   ]
  },
  {
   "cell_type": "code",
   "execution_count": null,
   "metadata": {},
   "outputs": [],
   "source": [
    "# Étape 1 : Charger le document avec un DataLoader\n",
    "url = \"https://newsroom.sfeir.com/mascotte-sfeir-pourquoi-avoir-choisi-un-axolotl-\"\n",
    "loader = WebBaseLoader(url)\n",
    "documents = loader.load()\n",
    "document_content = documents[0].page_content\n",
    "\n",
    "print(document_content)"
   ]
  },
  {
   "cell_type": "code",
   "execution_count": null,
   "metadata": {},
   "outputs": [],
   "source": [
    "# Étape 2 : Définir le modèle de réponse avec Pydantic\n",
    "class Response(BaseModel):\n",
    "    answer: str = Field(description=\"Answer to the question\")\n",
    "\n",
    "\n",
    "# Étape 3 : Définir le JsonOutputParser\n",
    "parser = JsonOutputParser(pydantic_object=Response)\n",
    "\n",
    "\n",
    "# Étape 4 : Définir le LLM\n",
    "llm = VertexAI()"
   ]
  },
  {
   "cell_type": "code",
   "execution_count": null,
   "metadata": {},
   "outputs": [],
   "source": [
    "# Étape 5 : Définir le ChatPromptTemplate\n",
    "prompt = ChatPromptTemplate.from_messages(\n",
    "    [\n",
    "        # Message système pour spécifier le comportement\n",
    "        SystemMessage(content=(\"You are a helpful assistant.\")),\n",
    "        # Message système précisant le format de sortie\n",
    "        SystemMessage(content=(parser.get_format_instructions())),\n",
    "        # Message humain à partir d'un template\n",
    "        HumanMessagePromptTemplate.from_template(\n",
    "            \"\"\"Answer the question based only on the following context:\n",
    "            {context}\n",
    "\n",
    "            Question: {question}\n",
    "            \"\"\"\n",
    "        ),\n",
    "    ]\n",
    ")"
   ]
  },
  {
   "cell_type": "code",
   "execution_count": null,
   "metadata": {},
   "outputs": [],
   "source": [
    "# Étape 6 : Chaîner les éléments\n",
    "chain = prompt | llm | parser"
   ]
  },
  {
   "cell_type": "code",
   "execution_count": null,
   "metadata": {},
   "outputs": [],
   "source": [
    "# Invoquer la chaîne en spécifiant le contexte et la question\n",
    "result = chain.invoke(\n",
    "    {\n",
    "        \"context\": documents,\n",
    "        \"question\": \"Résumes moi ce document en une seule phrase\",\n",
    "    }\n",
    ")\n",
    "print(result)"
   ]
  }
 ],
 "metadata": {
  "kernelspec": {
   "display_name": ".venv.school",
   "language": "python",
   "name": "python3"
  },
  "language_info": {
   "codemirror_mode": {
    "name": "ipython",
    "version": 3
   },
   "file_extension": ".py",
   "mimetype": "text/x-python",
   "name": "python",
   "nbconvert_exporter": "python",
   "pygments_lexer": "ipython3",
   "version": "3.12.4"
  }
 },
 "nbformat": 4,
 "nbformat_minor": 2
}
