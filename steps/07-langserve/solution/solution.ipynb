{
 "cells": [
  {
   "cell_type": "markdown",
   "metadata": {},
   "source": [
    "### ![](../../img/installation-ico.png) Installation"
   ]
  },
  {
   "cell_type": "code",
   "execution_count": null,
   "metadata": {
    "vscode": {
     "languageId": "shellscript"
    }
   },
   "outputs": [],
   "source": [
    "pip install langchain-cli langserve"
   ]
  },
  {
   "cell_type": "markdown",
   "metadata": {},
   "source": [
    "### ![](../../img/parametrage-ico.png) Paramétrages"
   ]
  },
  {
   "cell_type": "code",
   "execution_count": null,
   "metadata": {
    "vscode": {
     "languageId": "shellscript"
    }
   },
   "outputs": [],
   "source": [
    "# Au lieu de tout recréer une fois le CLI installer utiliser la commande suivante dans une invite de commande pour initier l'app\n",
    "langchain app new school-app\n",
    "\n",
    "# Et ajouter les chains ou runnables souhaitées"
   ]
  },
  {
   "cell_type": "code",
   "execution_count": null,
   "metadata": {},
   "outputs": [],
   "source": [
    "# app/server.py\n",
    "\n",
    "# Ajout d'une route pour un LLM simple\n",
    "add_routes(app, VertexAI(model_name=\"gemini-pro\", temperature=0.1), path=\"/chat\")\n",
    "\n",
    "\n",
    "# Ajout d'une route pour une chaîne\n",
    "prompt = PromptTemplate.from_template(\n",
    "    \"Explique moi simplement le concept suivant : {topic}\"\n",
    ")\n",
    "llm = VertexAI(model_name=\"gemini-pro\", temperature=0.1)\n",
    "output_parser = StrOutputParser()\n",
    "chain = prompt | llm | output_parser\n",
    "add_routes(app, chain, path=\"/chain\")"
   ]
  },
  {
   "cell_type": "markdown",
   "metadata": {},
   "source": [
    "### ![](../../img/jouer-ico.png) Exécution(s)"
   ]
  },
  {
   "cell_type": "code",
   "execution_count": null,
   "metadata": {
    "vscode": {
     "languageId": "shellscript"
    }
   },
   "outputs": [],
   "source": [
    "langchain serve --port=8100"
   ]
  },
  {
   "cell_type": "code",
   "execution_count": null,
   "metadata": {
    "vscode": {
     "languageId": "shellscript"
    }
   },
   "outputs": [],
   "source": [
    "docker build . -t school-app"
   ]
  },
  {
   "cell_type": "markdown",
   "metadata": {},
   "source": [
    "### Commandes d'appels"
   ]
  },
  {
   "cell_type": "markdown",
   "metadata": {},
   "source": [
    "#### Version Remote Runnable"
   ]
  },
  {
   "cell_type": "code",
   "execution_count": null,
   "metadata": {},
   "outputs": [],
   "source": [
    "from langchain_core.prompts import ChatPromptTemplate\n",
    "from langserve import RemoteRunnable\n",
    "\n",
    "remoteLLM = RemoteRunnable(\"http://localhost:8100/chat/\")\n",
    "\n",
    "prompt = ChatPromptTemplate.from_messages(\n",
    "    [\n",
    "        (\n",
    "            \"system\",\n",
    "            \"You are a highly educated person who loves to use big words. \"\n",
    "            + \"You are also concise. Never answer in more than three sentences.\",\n",
    "        ),\n",
    "        (\"human\", \"Tell me about {topic}\"),\n",
    "    ]\n",
    ")\n",
    "\n",
    "chain = prompt | remoteLLM\n",
    "\n",
    "for chunk in chain.stream({\"topic\": \"quantum computing\"}):\n",
    "    print(chunk, end=\"\", flush=True)"
   ]
  },
  {
   "cell_type": "code",
   "execution_count": null,
   "metadata": {},
   "outputs": [],
   "source": [
    "remoteChain = RemoteRunnable(\"http://localhost:8100/chain/\")\n",
    "\n",
    "remoteChain.invoke({\"topic\": \"ordinateur quantique\"})"
   ]
  },
  {
   "cell_type": "markdown",
   "metadata": {},
   "source": [
    "#### Version CURL (ou équivalent)\n",
    "\n",
    "\n",
    "```shell\n",
    "curl --location --request POST 'http://localhost:8100/chat/stream' \\\n",
    "--header 'Content-Type: application/json' \\\n",
    "--data '{\n",
    "    \"input\": \"What is quantum computing ?\"\n",
    "}'\n",
    "```\n",
    "\n",
    "```shell\n",
    "curl --location --request POST 'http://localhost:8100/chain/invoke' \\\n",
    "--header 'Content-Type: application/json' \\\n",
    "--data '{\n",
    "    \"input\": {\n",
    "        \"topic\": \"LangServe (de LangChaine)\"\n",
    "    }\n",
    "}'\n",
    "```"
   ]
  }
 ],
 "metadata": {
  "kernelspec": {
   "display_name": ".venv.school",
   "language": "python",
   "name": "python3"
  },
  "language_info": {
   "codemirror_mode": {
    "name": "ipython",
    "version": 3
   },
   "file_extension": ".py",
   "mimetype": "text/x-python",
   "name": "python",
   "nbconvert_exporter": "python",
   "pygments_lexer": "ipython3",
   "version": "3.12.4"
  }
 },
 "nbformat": 4,
 "nbformat_minor": 2
}
