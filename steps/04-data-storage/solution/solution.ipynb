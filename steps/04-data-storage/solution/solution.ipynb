{
 "cells": [
  {
   "cell_type": "markdown",
   "metadata": {},
   "source": [
    "### ![](../../img/installation-ico.png) Install"
   ]
  },
  {
   "cell_type": "code",
   "execution_count": null,
   "metadata": {
    "vscode": {
     "languageId": "shellscript"
    }
   },
   "outputs": [],
   "source": [
    "pip install langchain langchain-community langchain-google-vertexai google.auth"
   ]
  },
  {
   "cell_type": "markdown",
   "metadata": {},
   "source": [
    "Fonctionnalités nécessaires à l'exploitation de fichiers PDF"
   ]
  },
  {
   "cell_type": "code",
   "execution_count": null,
   "metadata": {
    "vscode": {
     "languageId": "shellscript"
    }
   },
   "outputs": [],
   "source": [
    "pip install pypdf"
   ]
  },
  {
   "cell_type": "markdown",
   "metadata": {},
   "source": [
    "FAISS pour LangChain"
   ]
  },
  {
   "cell_type": "code",
   "execution_count": null,
   "metadata": {
    "vscode": {
     "languageId": "shellscript"
    }
   },
   "outputs": [],
   "source": [
    "pip install faiss-cpu"
   ]
  },
  {
   "cell_type": "markdown",
   "metadata": {},
   "source": [
    "### ![](../../img/package-ico.png) Imports"
   ]
  },
  {
   "cell_type": "code",
   "execution_count": null,
   "metadata": {},
   "outputs": [],
   "source": [
    "import os\n",
    "import google.auth\n",
    "\n",
    "from langchain_google_vertexai import VertexAI\n",
    "\n",
    "# pour la récupération de données depuis un fichier PDF\n",
    "from langchain_community.document_loaders import PyPDFLoader\n",
    "\n",
    "# pour redécouper les documents\n",
    "from langchain.text_splitter import RecursiveCharacterTextSplitter\n",
    "\n",
    "# FAISS Vectore Store\n",
    "from langchain_community.vectorstores import FAISS\n",
    "\n",
    "\n",
    "# modèle d'embedding de documents\n",
    "from langchain_google_vertexai import VertexAIEmbeddings\n",
    "\n",
    "# récupération du prompt et construction de la châine\n",
    "from langchain.chains.combine_documents import create_stuff_documents_chain\n",
    "from langchain.chains import create_retrieval_chain\n",
    "\n",
    "\n",
    "from langchain_core.prompts import ChatPromptTemplate\n",
    "from langchain_core.messages import SystemMessage\n",
    "from langchain.prompts import HumanMessagePromptTemplate\n",
    "\n",
    "# permet de passer un paramètre entre les différents composants d'une chaîne\n",
    "from langchain_core.runnables import RunnablePassthrough\n",
    "\n",
    "from langchain_core.pydantic_v1 import BaseModel, Field\n",
    "from langchain_core.output_parsers import JsonOutputParser"
   ]
  },
  {
   "cell_type": "markdown",
   "metadata": {},
   "source": [
    "### ![](../../img/parametrage-ico.png) Paramétrages\n"
   ]
  },
  {
   "cell_type": "code",
   "execution_count": null,
   "metadata": {},
   "outputs": [],
   "source": [
    "# Gestion credentials VertexAI\n",
    "\n",
    "os.environ[\"GOOGLE_APPLICATION_CREDENTIALS\"] = \"../../settings/credentials.json\"\n",
    "google.auth.default()"
   ]
  },
  {
   "cell_type": "code",
   "execution_count": null,
   "metadata": {},
   "outputs": [],
   "source": [
    "# Étape 1 : Charger le document PDF avec PyPDFLoader\n",
    "pdf_path = \"./TechWave.pdf\"\n",
    "loader = PyPDFLoader(pdf_path)\n",
    "documents = loader.load()\n",
    "\n",
    "print(\"Number of extracted documents : \", len(documents))"
   ]
  },
  {
   "cell_type": "code",
   "execution_count": null,
   "metadata": {},
   "outputs": [],
   "source": [
    "# Étape 2 : Diviser le document en morceaux plus petits\n",
    "text_splitter = RecursiveCharacterTextSplitter(chunk_size=1000, chunk_overlap=200)\n",
    "split_documents = text_splitter.split_documents(documents)\n",
    "\n",
    "print(\"Number of splitted documents : \", len(split_documents))"
   ]
  },
  {
   "cell_type": "code",
   "execution_count": null,
   "metadata": {},
   "outputs": [],
   "source": [
    "# Étape 3 : Stocker les documents divisés dans un vector store FAISS\n",
    "embeddings = VertexAIEmbeddings(model_name=\"textembedding-gecko-multilingual@001\")\n",
    "vectorstore = FAISS.from_documents(split_documents, embeddings)"
   ]
  },
  {
   "cell_type": "code",
   "execution_count": null,
   "metadata": {},
   "outputs": [],
   "source": [
    "# Étape 4 : Définir le LLM\n",
    "llm = VertexAI()"
   ]
  },
  {
   "cell_type": "code",
   "execution_count": null,
   "metadata": {},
   "outputs": [],
   "source": [
    "# Étape 5 : Définir le ChatPromptTemplate\n",
    "prompt = ChatPromptTemplate.from_messages(\n",
    "    [        \n",
    "        HumanMessagePromptTemplate.from_template(\"\"\"You are an assistant for question-answering tasks.\n",
    "        Use the following pieces of retrieved context to answer the question.\n",
    "        Use three sentences maximum and keep the answer concise.\n",
    "        Question: {input} \n",
    "        Context: {context} \n",
    "        Answer:\n",
    "    \"\"\"),\n",
    "    ]\n",
    ")"
   ]
  },
  {
   "cell_type": "code",
   "execution_count": null,
   "metadata": {},
   "outputs": [],
   "source": [
    "# Étape 6 : Utiliser FAISS comme retriever\n",
    "retriever = vectorstore.as_retriever()\n",
    "\n",
    "# Étape 7 : Chaîner les éléments\n",
    "document_chain = create_stuff_documents_chain(llm, prompt)\n",
    "retrieval_chain = create_retrieval_chain(retriever, document_chain)"
   ]
  },
  {
   "cell_type": "markdown",
   "metadata": {},
   "source": [
    "### ![](../../img/jouer-ico.png) Exécution"
   ]
  },
  {
   "cell_type": "code",
   "execution_count": null,
   "metadata": {},
   "outputs": [],
   "source": [
    "# Exemple d'utilisation\n",
    "question = \"Quelle entreprise a rédigé ce document ?\"\n",
    "response = retrieval_chain.invoke({\"input\": question})\n",
    "\n",
    "print(response[\"answer\"])"
   ]
  },
  {
   "cell_type": "markdown",
   "metadata": {},
   "source": [
    "## Aller plus loin"
   ]
  },
  {
   "cell_type": "code",
   "execution_count": null,
   "metadata": {},
   "outputs": [],
   "source": [
    "# Définir le modèle de réponse avec Pydantic\n",
    "class Response(BaseModel):\n",
    "    answer: str = Field(description=\"Answer to the question\")\n",
    "\n",
    "\n",
    "# Définir le JsonOutputParser\n",
    "parser = JsonOutputParser(pydantic_object=Response)\n",
    "\n",
    "# Définir le ChatPromptTemplate\n",
    "prompt = ChatPromptTemplate.from_messages(\n",
    "    [\n",
    "        # Message système pour spécifier le comportement\n",
    "        SystemMessage(content=(\"You are a helpful assistant.\")),\n",
    "        # Message système précisant le format de sortie\n",
    "        SystemMessage(content=(parser.get_format_instructions())),\n",
    "        # Message humain à partir d'un template\n",
    "        HumanMessagePromptTemplate.from_template(\n",
    "            \"\"\"Answer the question based only on the following context:\n",
    "        <context>\n",
    "        {context}\n",
    "        <context>\n",
    "\n",
    "        Question: {question}\n",
    "        \"\"\"\n",
    "        ),\n",
    "    ]\n",
    ")\n",
    "\n",
    "manual_retrieval_chain = (\n",
    "    {\"context\": retriever, \"question\": RunnablePassthrough()} | prompt | llm | parser\n",
    ")\n",
    "\n",
    "question = \"Quelle entreprise a rédigé ce document ?\"\n",
    "manual_response = manual_retrieval_chain.invoke(question)\n",
    "print(manual_response)"
   ]
  }
 ],
 "metadata": {
  "kernelspec": {
   "display_name": ".venv.school",
   "language": "python",
   "name": "python3"
  },
  "language_info": {
   "codemirror_mode": {
    "name": "ipython",
    "version": 3
   },
   "file_extension": ".py",
   "mimetype": "text/x-python",
   "name": "python",
   "nbconvert_exporter": "python",
   "pygments_lexer": "ipython3",
   "version": "3.12.4"
  }
 },
 "nbformat": 4,
 "nbformat_minor": 2
}
