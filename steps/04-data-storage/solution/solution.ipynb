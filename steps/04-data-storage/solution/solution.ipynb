{
 "cells": [
  {
   "cell_type": "markdown",
   "metadata": {},
   "source": [
    "### ![](../../img/installation-ico.png) Install"
   ]
  },
  {
   "cell_type": "code",
   "execution_count": null,
   "metadata": {
    "vscode": {
     "languageId": "shellscript"
    }
   },
   "outputs": [],
   "source": [
    "pip install langchain langchain-community langchain-google-vertexai google.auth"
   ]
  },
  {
   "cell_type": "markdown",
   "metadata": {},
   "source": [
    "Fonctionnalités nécessaires à l'exploitation de fichiers PDF"
   ]
  },
  {
   "cell_type": "code",
   "execution_count": null,
   "metadata": {
    "vscode": {
     "languageId": "shellscript"
    }
   },
   "outputs": [],
   "source": [
    "pip install pypdf"
   ]
  },
  {
   "cell_type": "markdown",
   "metadata": {},
   "source": [
    "ChromaDB pour LangChain"
   ]
  },
  {
   "cell_type": "code",
   "execution_count": null,
   "metadata": {
    "vscode": {
     "languageId": "shellscript"
    }
   },
   "outputs": [],
   "source": [
    "pip install langchain-chroma"
   ]
  },
  {
   "cell_type": "markdown",
   "metadata": {},
   "source": [
    "### ![](../../img/package-ico.png) Imports"
   ]
  },
  {
   "cell_type": "code",
   "execution_count": null,
   "metadata": {},
   "outputs": [],
   "source": [
    "import os\n",
    "import google.auth\n",
    "\n",
    "from langchain_google_vertexai import VertexAI\n",
    "\n",
    "# pour la récupération de données depuis un fichier PDF\n",
    "from langchain_community.document_loaders import PyPDFLoader\n",
    "\n",
    "# pour redécouper les documents\n",
    "from langchain.text_splitter import RecursiveCharacterTextSplitter\n",
    "\n",
    "# ChromaDB Vectore Store\n",
    "from langchain.vectorstores import Chroma\n",
    "\n",
    "# modèle d'embedding de documents\n",
    "from langchain_core.embeddings import FakeEmbeddings\n",
    "\n",
    "from langchain_core.prompts import ChatPromptTemplate\n",
    "from langchain_core.messages import SystemMessage\n",
    "from langchain.prompts import HumanMessagePromptTemplate\n",
    "\n",
    "# permet de passer un paramètre entre les différents composants d'une chaîne\n",
    "from langchain_core.runnables import RunnablePassthrough\n",
    "\n",
    "from langchain_core.pydantic_v1 import BaseModel, Field\n",
    "from langchain_core.output_parsers import JsonOutputParser"
   ]
  },
  {
   "cell_type": "markdown",
   "metadata": {},
   "source": [
    "### ![](../../img/parametrage-ico.png) Paramétrages\n"
   ]
  },
  {
   "cell_type": "code",
   "execution_count": null,
   "metadata": {},
   "outputs": [],
   "source": [
    "# Gestion credentials VertexAI\n",
    "\n",
    "os.environ[\"GOOGLE_APPLICATION_CREDENTIALS\"] = \"../../settings/credentials.json\"\n",
    "google.auth.default()"
   ]
  },
  {
   "cell_type": "code",
   "execution_count": 6,
   "metadata": {},
   "outputs": [
    {
     "name": "stderr",
     "output_type": "stream",
     "text": [
      "could not convert string to float: '0.00-10' : FloatObject (b'0.00-10') invalid; use 0.0 instead\n",
      "could not convert string to float: '0.00-10' : FloatObject (b'0.00-10') invalid; use 0.0 instead\n",
      "could not convert string to float: '0.00-10' : FloatObject (b'0.00-10') invalid; use 0.0 instead\n",
      "could not convert string to float: '0.00-10' : FloatObject (b'0.00-10') invalid; use 0.0 instead\n"
     ]
    },
    {
     "name": "stdout",
     "output_type": "stream",
     "text": [
      "Number of extracted documents :  36\n"
     ]
    }
   ],
   "source": [
    "# Étape 1 : Charger le document PDF avec PyMuPDFLoader\n",
    "pdf_path = \"./TechWave.pdf\"\n",
    "loader = PyPDFLoader(pdf_path)\n",
    "documents = loader.load()\n",
    "\n",
    "print(\"Number of extracted documents : \", len(documents))"
   ]
  },
  {
   "cell_type": "code",
   "execution_count": 7,
   "metadata": {},
   "outputs": [
    {
     "name": "stdout",
     "output_type": "stream",
     "text": [
      "Number of splitted documents :  93\n"
     ]
    }
   ],
   "source": [
    "# Étape 2 : Diviser le document en morceaux plus petits\n",
    "text_splitter = RecursiveCharacterTextSplitter(chunk_size=1000, chunk_overlap=200)\n",
    "split_documents = text_splitter.split_documents(documents)\n",
    "\n",
    "print(\"Number of splitted documents : \", len(split_documents))"
   ]
  },
  {
   "cell_type": "code",
   "execution_count": 8,
   "metadata": {},
   "outputs": [],
   "source": [
    "embeddings = FakeEmbeddings(size=4096)\n",
    "\n",
    "# Étape 3 : Stocker les documents divisés dans une ChromaDB\n",
    "vectorstore = Chroma.from_documents(split_documents, embedding=embeddings)"
   ]
  },
  {
   "cell_type": "code",
   "execution_count": 9,
   "metadata": {},
   "outputs": [],
   "source": [
    "# Étape 4 : Définir le modèle de réponse avec Pydantic\n",
    "class Response(BaseModel):\n",
    "    answer: str = Field(description=\"Answer to the question\")\n",
    "\n",
    "\n",
    "# Étape 5 : Définir le JsonOutputParser\n",
    "parser = JsonOutputParser(pydantic_object=Response)\n",
    "\n",
    "# Étape 6 : Définir le LLM\n",
    "llm = VertexAI()"
   ]
  },
  {
   "cell_type": "code",
   "execution_count": 10,
   "metadata": {},
   "outputs": [],
   "source": [
    "# Étape 7 : Définir le ChatPromptTemplate\n",
    "prompt = ChatPromptTemplate.from_messages(\n",
    "    [\n",
    "        # Message système pour spécifier le comportement\n",
    "        SystemMessage(content=(\"You are a helpful assistant.\")),\n",
    "        # Message système précisant le format de sortie\n",
    "        SystemMessage(content=(parser.get_format_instructions())),\n",
    "        # Message humain à partir d'un template\n",
    "        HumanMessagePromptTemplate.from_template(\n",
    "            \"\"\"Answer the question based only on the following context:\n",
    "        {context}\n",
    "\n",
    "        Question: {question}\n",
    "        \"\"\"\n",
    "        ),\n",
    "    ]\n",
    ")"
   ]
  },
  {
   "cell_type": "code",
   "execution_count": 11,
   "metadata": {},
   "outputs": [],
   "source": [
    "# Étape 8 : Utiliser ChromaDB comme retriever\n",
    "retriever = vectorstore.as_retriever()\n",
    "\n",
    "# Étape 9 : Chaîner les éléments\n",
    "retrieval_chain = (\n",
    "    {\"context\": retriever, \"question\": RunnablePassthrough()} |\n",
    "    prompt |\n",
    "    llm |\n",
    "    parser\n",
    ")"
   ]
  },
  {
   "cell_type": "markdown",
   "metadata": {},
   "source": [
    "### ![](../../img/jouer-ico.png) Exécution"
   ]
  },
  {
   "cell_type": "code",
   "execution_count": 13,
   "metadata": {},
   "outputs": [
    {
     "name": "stdout",
     "output_type": "stream",
     "text": [
      "{'answer': 'Le document a été rédigé par WEnvision et SFEIR.'}\n"
     ]
    }
   ],
   "source": [
    "# Exemple d'utilisation\n",
    "question = \"Quelle entreprise a rédigé ce document ?\"\n",
    "response = retrieval_chain.invoke({\"question\": question})\n",
    "\n",
    "print(response)"
   ]
  }
 ],
 "metadata": {
  "kernelspec": {
   "display_name": ".venv.school",
   "language": "python",
   "name": "python3"
  },
  "language_info": {
   "codemirror_mode": {
    "name": "ipython",
    "version": 3
   },
   "file_extension": ".py",
   "mimetype": "text/x-python",
   "name": "python",
   "nbconvert_exporter": "python",
   "pygments_lexer": "ipython3",
   "version": "3.12.4"
  }
 },
 "nbformat": 4,
 "nbformat_minor": 2
}
